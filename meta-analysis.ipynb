{
 "cells": [
  {
   "cell_type": "markdown",
   "id": "6e538fc2",
   "metadata": {
    "created-datetime": "2022-08-07T19:58:50.914Z",
    "deps": [],
    "executions": 1,
    "id": "6e538fc2",
    "tags": []
   },
   "source": [
    "# Meta Analysis Notebook"
   ]
  },
  {
   "cell_type": "code",
   "execution_count": null,
   "id": "88150e55-c547-4240-a0d0-d180b5de892e",
   "metadata": {
    "created-datetime": "2022-07-26T18:39:20.573Z",
    "deps": [],
    "executions": 6,
    "id": "88150e55-c547-4240-a0d0-d180b5de892e",
    "keystrokes": 82,
    "modified-datetime": "2022-08-01T14:01:43.468Z",
    "tags": []
   },
   "outputs": [],
   "source": [
    "import json\n",
    "with open('meta-analysis.json') as fp:\n",
    "    data = json.load(fp)\n",
    "    \n",
    "def getCellData(versions, cellID, nbName): \n",
    "    for version in versions:\n",
    "        notebooks = data[\"commits\"][version]['notebooks']\n",
    "        for notebook in notebooks:\n",
    "            if (notebook['name'] == nbName):\n",
    "                cells = notebook['contents']['cells']\n",
    "                for cell in cells:\n",
    "                    if (cell['metadata']['id'] == cellID):\n",
    "                        print(cell)"
   ]
  },
  {
   "cell_type": "code",
   "execution_count": null,
   "id": "c09991fd-437a-4764-a0d4-75f8587e8dbb",
   "metadata": {
    "created-datetime": "2022-08-07T20:13:37.393Z",
    "deps": [],
    "id": "c09991fd-437a-4764-a0d4-75f8587e8dbb",
    "keystrokes": 1,
    "modified-datetime": "2022-08-07T20:13:37.407Z",
    "tags": []
   },
   "outputs": [],
   "source": [
    "versions = [\"11659103c7bbc3f995218e4ab232da86788f6ecb\",\"c2c9ff03ae6a362df28f6b90d3126c8b07212917\",\"7709557a19eb284ca432c0a289514314be809029\",\"05d170bd06ad2728eaf2dbe9fa4eefc3a5f1f321\",\"17cf7b1db20ca4b6d6e3d49cb6eef7d441dabcc3\",\"112892537a025ab4afbdc6efa8941cf9372c63c3\",\"54be3eafdd224ae9cd8f48e7bfbc7132ef773e0c\",\"c41ee0a905b064f60c629d34193206847dea72fb\",\"99acb8647ddd7a69eb170543acd1aa57caf715f5\",\"81bf445da14d321fd1df62b9bffc456fe093f347\",\"c6a749fdb8cfe7f7e234ba2f8e5d2e68867e9290\",\"6c5234fb1b678e46da37af3d88ad2e653584a466\"]\n",
    "cellid = \"38498c98-a024-4936-a373-7f6baafca29f\"\n",
    "notebook = \"Lodestar2_pilot.ipynb\"\n",
    "getCellData(versions, cellid, notebook)"
   ]
  },
  {
   "cell_type": "code",
   "execution_count": null,
   "id": "19451ad6-afea-467b-9802-f1099eb80c2f",
   "metadata": {
    "created-datetime": "2022-08-07T20:17:35.866Z",
    "deps": [],
    "id": "19451ad6-afea-467b-9802-f1099eb80c2f",
    "keystrokes": 2,
    "modified-datetime": "2022-08-07T20:17:35.893Z",
    "tags": []
   },
   "outputs": [],
   "source": [
    "versions = [\"d16592d1e1fe14e8563f34deb6f65e33bd19e51c\"]\n",
    "cellid = \"5eefcad3-457a-4cad-9e17-e5bad60aee0d\"\n",
    "notebook = \"Lodestar2_pilot.ipynb\"\n",
    "getCellData(versions, cellid, notebook)"
   ]
  },
  {
   "cell_type": "code",
   "execution_count": null,
   "id": "55fdbcc8-ed4f-4368-95b5-d9c9149b7a37",
   "metadata": {
    "created-datetime": "2022-08-07T20:17:37.436Z",
    "deps": [],
    "id": "55fdbcc8-ed4f-4368-95b5-d9c9149b7a37",
    "keystrokes": 2,
    "modified-datetime": "2022-08-07T20:17:37.462Z",
    "tags": []
   },
   "outputs": [],
   "source": [
    "versions = [\"11659103c7bbc3f995218e4ab232da86788f6ecb\",\"c2c9ff03ae6a362df28f6b90d3126c8b07212917\",\"7709557a19eb284ca432c0a289514314be809029\",\"05d170bd06ad2728eaf2dbe9fa4eefc3a5f1f321\",\"17cf7b1db20ca4b6d6e3d49cb6eef7d441dabcc3\",\"112892537a025ab4afbdc6efa8941cf9372c63c3\",\"54be3eafdd224ae9cd8f48e7bfbc7132ef773e0c\",\"c41ee0a905b064f60c629d34193206847dea72fb\",\"99acb8647ddd7a69eb170543acd1aa57caf715f5\",\"81bf445da14d321fd1df62b9bffc456fe093f347\",\"c6a749fdb8cfe7f7e234ba2f8e5d2e68867e9290\",\"6c5234fb1b678e46da37af3d88ad2e653584a466\",\"cd45b56db3d658c79f5e4a8aab1c6d1776eb0616\",\"4036d0851f827ad1dc2d15ed00e31cce27702240\",\"e52e22fc88b30f0ba618a4a8d3519b7bd417db2b\",\"d8ba3a436883e34bdb0dc76f700cc113891633f4\",\"d67c96e4c1654c5ac06e917fc2376a11f24fddfd\",\"252804908e6eb5b805955310307b50015fb40cb1\",\"d16592d1e1fe14e8563f34deb6f65e33bd19e51c\"]\n",
    "cellid = \"26ce3216-1fc5-4b71-912b-571d21bfb8a1\"\n",
    "notebook = \"Lodestar2_pilot.ipynb\"\n",
    "getCellData(versions, cellid, notebook)"
   ]
  }
 ],
 "metadata": {
  "kernelspec": {
   "display_name": "Python 3 (ipykernel)",
   "language": "python",
   "name": "python3"
  },
  "language_info": {
   "codemirror_mode": {
    "name": "ipython",
    "version": 3
   },
   "file_extension": ".py",
   "mimetype": "text/x-python",
   "name": "python",
   "nbconvert_exporter": "python",
   "pygments_lexer": "ipython3",
   "version": "3.7.13"
  },
  "vscode": {
   "interpreter": {
    "hash": "40d3a090f54c6569ab1632332b64b2c03c39dcf918b08424e98f38b5ae0af88f"
   }
  }
 },
 "nbformat": 4,
 "nbformat_minor": 5
}
