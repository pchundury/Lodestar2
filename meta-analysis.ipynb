{
 "cells": [
  {
   "cell_type": "markdown",
   "id": "6e538fc2",
   "metadata": {
    "created-datetime": "2022-08-07T19:58:50.914Z",
    "deps": [],
    "executions": 2,
    "id": "6e538fc2",
    "tags": []
   },
   "source": [
    "# Meta Analysis Notebook"
   ]
  },
  {
   "cell_type": "code",
   "execution_count": null,
   "id": "88150e55-c547-4240-a0d0-d180b5de892e",
   "metadata": {
    "created-datetime": "2022-07-26T18:39:20.573Z",
    "deps": [],
    "executions": 6,
    "id": "88150e55-c547-4240-a0d0-d180b5de892e",
    "keystrokes": 82,
    "modified-datetime": "2022-08-01T14:01:43.468Z",
    "tags": []
   },
   "outputs": [],
   "source": [
    "import json\n",
    "with open('meta-analysis.json') as fp:\n",
    "    data = json.load(fp)\n",
    "    \n",
    "def getCellData(versions, cellID, nbName): \n",
    "    for version in versions:\n",
    "        notebooks = data[\"commits\"][version]['notebooks']\n",
    "        for notebook in notebooks:\n",
    "            if (notebook['name'] == nbName):\n",
    "                cells = notebook['contents']['cells']\n",
    "                for cell in cells:\n",
    "                    if (cell['metadata']['id'] == cellID):\n",
    "                        print(cell)"
   ]
  },
  {
   "cell_type": "code",
   "execution_count": null,
   "id": "c09991fd-437a-4764-a0d4-75f8587e8dbb",
   "metadata": {
    "created-datetime": "2022-08-07T20:13:37.393Z",
    "deps": [],
    "id": "c09991fd-437a-4764-a0d4-75f8587e8dbb",
    "keystrokes": 1,
    "modified-datetime": "2022-08-07T20:13:37.407Z",
    "tags": []
   },
   "outputs": [],
   "source": [
    "versions = [\"11659103c7bbc3f995218e4ab232da86788f6ecb\",\"c2c9ff03ae6a362df28f6b90d3126c8b07212917\",\"7709557a19eb284ca432c0a289514314be809029\",\"05d170bd06ad2728eaf2dbe9fa4eefc3a5f1f321\",\"17cf7b1db20ca4b6d6e3d49cb6eef7d441dabcc3\",\"112892537a025ab4afbdc6efa8941cf9372c63c3\",\"54be3eafdd224ae9cd8f48e7bfbc7132ef773e0c\",\"c41ee0a905b064f60c629d34193206847dea72fb\",\"99acb8647ddd7a69eb170543acd1aa57caf715f5\",\"81bf445da14d321fd1df62b9bffc456fe093f347\",\"c6a749fdb8cfe7f7e234ba2f8e5d2e68867e9290\",\"6c5234fb1b678e46da37af3d88ad2e653584a466\"]\n",
    "cellid = \"38498c98-a024-4936-a373-7f6baafca29f\"\n",
    "notebook = \"Lodestar2_pilot.ipynb\"\n",
    "getCellData(versions, cellid, notebook)"
   ]
  },
  {
   "cell_type": "code",
   "execution_count": null,
   "id": "19451ad6-afea-467b-9802-f1099eb80c2f",
   "metadata": {
    "created-datetime": "2022-08-07T20:17:35.866Z",
    "deps": [],
    "id": "19451ad6-afea-467b-9802-f1099eb80c2f",
    "keystrokes": 2,
    "modified-datetime": "2022-08-07T20:17:35.893Z",
    "tags": []
   },
   "outputs": [],
   "source": [
    "versions = [\"d16592d1e1fe14e8563f34deb6f65e33bd19e51c\"]\n",
    "cellid = \"5eefcad3-457a-4cad-9e17-e5bad60aee0d\"\n",
    "notebook = \"Lodestar2_pilot.ipynb\"\n",
    "getCellData(versions, cellid, notebook)"
   ]
  },
  {
   "cell_type": "code",
   "execution_count": null,
   "id": "55fdbcc8-ed4f-4368-95b5-d9c9149b7a37",
   "metadata": {
    "created-datetime": "2022-08-07T20:17:37.436Z",
    "deps": [],
    "id": "55fdbcc8-ed4f-4368-95b5-d9c9149b7a37",
    "keystrokes": 2,
    "modified-datetime": "2022-08-07T20:17:37.462Z",
    "tags": []
   },
   "outputs": [],
   "source": [
    "versions = [\"11659103c7bbc3f995218e4ab232da86788f6ecb\",\"c2c9ff03ae6a362df28f6b90d3126c8b07212917\",\"7709557a19eb284ca432c0a289514314be809029\",\"05d170bd06ad2728eaf2dbe9fa4eefc3a5f1f321\",\"17cf7b1db20ca4b6d6e3d49cb6eef7d441dabcc3\",\"112892537a025ab4afbdc6efa8941cf9372c63c3\",\"54be3eafdd224ae9cd8f48e7bfbc7132ef773e0c\",\"c41ee0a905b064f60c629d34193206847dea72fb\",\"99acb8647ddd7a69eb170543acd1aa57caf715f5\",\"81bf445da14d321fd1df62b9bffc456fe093f347\",\"c6a749fdb8cfe7f7e234ba2f8e5d2e68867e9290\",\"6c5234fb1b678e46da37af3d88ad2e653584a466\",\"cd45b56db3d658c79f5e4a8aab1c6d1776eb0616\",\"4036d0851f827ad1dc2d15ed00e31cce27702240\",\"e52e22fc88b30f0ba618a4a8d3519b7bd417db2b\",\"d8ba3a436883e34bdb0dc76f700cc113891633f4\",\"d67c96e4c1654c5ac06e917fc2376a11f24fddfd\",\"252804908e6eb5b805955310307b50015fb40cb1\",\"d16592d1e1fe14e8563f34deb6f65e33bd19e51c\"]\n",
    "cellid = \"26ce3216-1fc5-4b71-912b-571d21bfb8a1\"\n",
    "notebook = \"Lodestar2_pilot.ipynb\"\n",
    "getCellData(versions, cellid, notebook)"
   ]
  },
  {
   "cell_type": "code",
   "execution_count": null,
   "id": "9aa7b05c-26fe-4042-b41a-99012fd1448a",
   "metadata": {
    "created-datetime": "2022-08-07T22:47:13.727Z",
    "deps": [],
    "id": "9aa7b05c-26fe-4042-b41a-99012fd1448a",
    "keystrokes": 1,
    "modified-datetime": "2022-08-07T22:47:13.744Z",
    "tags": []
   },
   "outputs": [],
   "source": [
    "versions = [\"f353849d70a361e4f4dcdbb2c0c86397fca57eba\",\"e54a8284b1391e18014f551885af7ccf5ee5a094\",\"c0cc1d89ed5ec6550069262e55f2b28a0e068906\",\"59c7d408bf8dc38eb115a615d4615e6c9493bc22\",\"5449eae20dc1e7520225f9eebc9f0eff16db6ebe\",\"101f56ed26fe5efaf6fd1df4187f2fe5ea46e66e\",\"a1ea0cd21d730d865335f7bc7b34d5a703f6943b\",\"401f6324929e88f4d65f1caeb4b620db9475aa66\",\"c78cdaa9178e89fadba0058f9957d4c058920b83\",\"ab1db32b354d0cf874b5d2764782b7f90f27287d\",\"97009de046921e8c45ce22795f62ea7a68ce135b\",\"edacbdd1d0fd2e773ada4735e3a6d1269db74d69\",\"56e997956b4bf9e7da058019d720bf0f0d886911\",\"29eaf32ec489c6edd0304239a836d46277acac77\",\"832e586e8dd35ef652ccbd0146fd7a6a5f245995\",\"fc7c690fabb9247d0c5787b3b591b8d42726d815\",\"379ad2ecd469aaee0d51cb68e6d23a74ed58c72d\"]\n",
    "cellid = \"ce9e7e73-b258-4705-a87a-3f3204ff4f47\"\n",
    "notebook = \"Lodestar2_pilot.ipynb\"\n",
    "getCellData(versions, cellid, notebook)"
   ]
  },
  {
   "cell_type": "code",
   "execution_count": null,
   "id": "388fc9f9-bf86-498b-85d8-6f8080ff4e02",
   "metadata": {
    "created-datetime": "2022-08-07T22:47:16.701Z",
    "deps": [],
    "id": "388fc9f9-bf86-498b-85d8-6f8080ff4e02",
    "keystrokes": 1,
    "modified-datetime": "2022-08-07T22:47:16.726Z",
    "tags": []
   },
   "outputs": [],
   "source": [
    "versions = [\"d16592d1e1fe14e8563f34deb6f65e33bd19e51c\",\"3818de50425e9d169a1b3d019ffdd084f38005b1\",\"33f8a757403db602d50cd701c747e3183c927381\",\"b4d0975c2356b5c4a6a6524f5db0d5bb85d763bd\",\"17add2404f7ddda7cbf8c9dc2bc9316292912ee9\",\"1266a8918046ac39a81e859b05d48b6081f30799\",\"e4dc5851900a4643a7532d1c85daf53b5e52126b\",\"eb7dee3bab05c568c57bc2b5049b6a06842497d2\",\"71db0490e515e1b83bc4592a4282ec4162d695c5\",\"cd509093d7b728bca2dc98b710172e7624eb79f0\",\"3b8583908e119a169f3b4ab98a62ff208149baf7\",\"7b2445efcd3de23d4403e92b4ee745a1890bf6be\",\"21e13936b4f47174790ea6e2c387949ed951d841\",\"d8d8206fbe191c5b22ecc4dd462799387fee6d83\",\"11f6b3f6dad815bcfcc9ffb96146287202c39eb5\",\"76d8aa816ddc243137619131094efebc1c79d105\"]\n",
    "cellid = \"5eefcad3-457a-4cad-9e17-e5bad60aee0d\"\n",
    "notebook = \"Lodestar2_pilot.ipynb\"\n",
    "getCellData(versions, cellid, notebook)"
   ]
  }
 ],
 "metadata": {
  "kernelspec": {
   "display_name": "Python 3 (ipykernel)",
   "language": "python",
   "name": "python3"
  },
  "language_info": {
   "codemirror_mode": {
    "name": "ipython",
    "version": 3
   },
   "file_extension": ".py",
   "mimetype": "text/x-python",
   "name": "python",
   "nbconvert_exporter": "python",
   "pygments_lexer": "ipython3",
   "version": "3.7.13"
  },
  "vscode": {
   "interpreter": {
    "hash": "40d3a090f54c6569ab1632332b64b2c03c39dcf918b08424e98f38b5ae0af88f"
   }
  }
 },
 "nbformat": 4,
 "nbformat_minor": 5
}
