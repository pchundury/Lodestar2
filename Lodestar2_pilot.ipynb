{
 "cells": [
  {
   "cell_type": "markdown",
   "id": "323fac07-75de-4d0e-9256-0642fdeb5f48",
   "metadata": {
    "created-datetime": "2022-08-07T19:53:09.126Z",
    "deps": [],
    "executions": 10,
    "id": "7f313d13-8f96-41cb-a914-e634b22d1b39",
    "keystrokes": 23,
    "modified-datetime": "2022-08-07T19:58:07.811Z",
    "tags": []
   },
   "source": [
    "# Airbnb NYC 2019 EDA"
   ]
  },
  {
   "cell_type": "code",
   "execution_count": 91,
   "id": "d25a2a8f-6bf6-404c-919f-e1abb00ed419",
   "metadata": {
    "created-datetime": "2022-08-07T19:53:09.876Z",
    "deps": [
     "38498c98-a024-4936-a373-7f6baafca29f"
    ],
    "executions": 13,
    "id": "d25a2a8f-6bf6-404c-919f-e1abb00ed419",
    "keystrokes": 162,
    "modified-datetime": "2022-08-07T22:34:39.146Z",
    "tags": []
   },
   "outputs": [],
   "source": [
    "# Load dependencies\n",
    "\n",
    "import os\n",
    "import pandas as pd\n",
    "import seaborn as sns\n",
    "import matplotlib.pyplot as plt"
   ]
  },
  {
   "cell_type": "markdown",
   "id": "8acb6269-82bd-4262-b8df-5a9e24bea6a1",
   "metadata": {
    "created-datetime": "2022-08-07T22:38:57.038Z",
    "deps": [],
    "executions": 7,
    "id": "ce9e7e73-b258-4705-a87a-3f3204ff4f47",
    "tags": []
   },
   "source": [
    "## Exploring the data attributes"
   ]
  },
  {
   "cell_type": "code",
   "execution_count": 92,
   "id": "26ce3216-1fc5-4b71-912b-571d21bfb8a1",
   "metadata": {
    "created-datetime": "2022-08-07T19:53:11.669Z",
    "deps": [
     "96e0b707-64af-48eb-aee8-a5f6e4c91824",
     "4e23d3f0-8c56-4816-b964-ceaac7113290",
     "d25a2a8f-6bf6-404c-919f-e1abb00ed419"
    ],
    "executions": 15,
    "id": "26ce3216-1fc5-4b71-912b-571d21bfb8a1",
    "keystrokes": 435,
    "modified-datetime": "2022-08-07T22:42:40.681Z",
    "tags": []
   },
   "outputs": [
    {
     "name": "stdout",
     "output_type": "stream",
     "text": [
      " Samples: 48895 ; columns: 16\n"
     ]
    }
   ],
   "source": [
    "# Loading the dataset\n",
    "\n",
    "df_unclean = pd.read_csv(\"./AB_NYC_2019.csv\")\n",
    "print(\" Samples: {} ; columns: {}\".format(df_unclean.shape[0], df_unclean.shape[1]))\n",
    "\n"
   ]
  },
  {
   "cell_type": "code",
   "execution_count": 93,
   "id": "286e20e6-c8ea-4f1b-9b94-65e356825b55",
   "metadata": {
    "created-datetime": "2022-08-07T22:35:36.097Z",
    "deps": [
     "26ce3216-1fc5-4b71-912b-571d21bfb8a1"
    ],
    "executions": 6,
    "id": "286e20e6-c8ea-4f1b-9b94-65e356825b55",
    "keystrokes": 599,
    "modified-datetime": "2022-08-07T22:50:06.692Z",
    "tags": []
   },
   "outputs": [
    {
     "name": "stdout",
     "output_type": "stream",
     "text": [
      "<class 'pandas.core.frame.DataFrame'>\n",
      "RangeIndex: 48895 entries, 0 to 48894\n",
      "Data columns (total 16 columns):\n",
      " #   Column                          Non-Null Count  Dtype  \n",
      "---  ------                          --------------  -----  \n",
      " 0   id                              48895 non-null  int64  \n",
      " 1   name                            48879 non-null  object \n",
      " 2   host_id                         48895 non-null  int64  \n",
      " 3   host_name                       48874 non-null  object \n",
      " 4   neighbourhood_group             48895 non-null  object \n",
      " 5   neighbourhood                   48895 non-null  object \n",
      " 6   latitude                        48895 non-null  float64\n",
      " 7   longitude                       48895 non-null  float64\n",
      " 8   room_type                       48895 non-null  object \n",
      " 9   price                           48895 non-null  int64  \n",
      " 10  minimum_nights                  48895 non-null  int64  \n",
      " 11  number_of_reviews               48895 non-null  int64  \n",
      " 12  last_review                     38843 non-null  object \n",
      " 13  reviews_per_month               38843 non-null  float64\n",
      " 14  calculated_host_listings_count  48895 non-null  int64  \n",
      " 15  availability_365                48895 non-null  int64  \n",
      "dtypes: float64(3), int64(7), object(6)\n",
      "memory usage: 6.0+ MB\n"
     ]
    }
   ],
   "source": [
    "#Listing the data attribute types\n",
    "\n",
    "#df_unclean.dtypes\n",
    "df_unclean.info()"
   ]
  },
  {
   "cell_type": "code",
   "execution_count": 94,
   "id": "eb3280bc-798c-4cfc-8925-6b49bd63d6ea",
   "metadata": {
    "created-datetime": "2022-08-07T22:43:32.878Z",
    "deps": [
     "26ce3216-1fc5-4b71-912b-571d21bfb8a1"
    ],
    "executions": 4,
    "id": "eb3280bc-798c-4cfc-8925-6b49bd63d6ea",
    "keystrokes": 75,
    "modified-datetime": "2022-08-07T22:46:19.191Z",
    "tags": []
   },
   "outputs": [
    {
     "data": {
      "text/html": [
       "<div>\n",
       "<style scoped>\n",
       "    .dataframe tbody tr th:only-of-type {\n",
       "        vertical-align: middle;\n",
       "    }\n",
       "\n",
       "    .dataframe tbody tr th {\n",
       "        vertical-align: top;\n",
       "    }\n",
       "\n",
       "    .dataframe thead th {\n",
       "        text-align: right;\n",
       "    }\n",
       "</style>\n",
       "<table border=\"1\" class=\"dataframe\">\n",
       "  <thead>\n",
       "    <tr style=\"text-align: right;\">\n",
       "      <th></th>\n",
       "      <th>id</th>\n",
       "      <th>name</th>\n",
       "      <th>host_id</th>\n",
       "      <th>host_name</th>\n",
       "      <th>neighbourhood_group</th>\n",
       "      <th>neighbourhood</th>\n",
       "      <th>latitude</th>\n",
       "      <th>longitude</th>\n",
       "      <th>room_type</th>\n",
       "      <th>price</th>\n",
       "      <th>minimum_nights</th>\n",
       "      <th>number_of_reviews</th>\n",
       "      <th>last_review</th>\n",
       "      <th>reviews_per_month</th>\n",
       "      <th>calculated_host_listings_count</th>\n",
       "      <th>availability_365</th>\n",
       "    </tr>\n",
       "  </thead>\n",
       "  <tbody>\n",
       "    <tr>\n",
       "      <th>0</th>\n",
       "      <td>2539</td>\n",
       "      <td>Clean &amp; quiet apt home by the park</td>\n",
       "      <td>2787</td>\n",
       "      <td>John</td>\n",
       "      <td>Brooklyn</td>\n",
       "      <td>Kensington</td>\n",
       "      <td>40.64749</td>\n",
       "      <td>-73.97237</td>\n",
       "      <td>Private room</td>\n",
       "      <td>149</td>\n",
       "      <td>1</td>\n",
       "      <td>9</td>\n",
       "      <td>2018-10-19</td>\n",
       "      <td>0.21</td>\n",
       "      <td>6</td>\n",
       "      <td>365</td>\n",
       "    </tr>\n",
       "    <tr>\n",
       "      <th>1</th>\n",
       "      <td>2595</td>\n",
       "      <td>Skylit Midtown Castle</td>\n",
       "      <td>2845</td>\n",
       "      <td>Jennifer</td>\n",
       "      <td>Manhattan</td>\n",
       "      <td>Midtown</td>\n",
       "      <td>40.75362</td>\n",
       "      <td>-73.98377</td>\n",
       "      <td>Entire home/apt</td>\n",
       "      <td>225</td>\n",
       "      <td>1</td>\n",
       "      <td>45</td>\n",
       "      <td>2019-05-21</td>\n",
       "      <td>0.38</td>\n",
       "      <td>2</td>\n",
       "      <td>355</td>\n",
       "    </tr>\n",
       "    <tr>\n",
       "      <th>2</th>\n",
       "      <td>3647</td>\n",
       "      <td>THE VILLAGE OF HARLEM....NEW YORK !</td>\n",
       "      <td>4632</td>\n",
       "      <td>Elisabeth</td>\n",
       "      <td>Manhattan</td>\n",
       "      <td>Harlem</td>\n",
       "      <td>40.80902</td>\n",
       "      <td>-73.94190</td>\n",
       "      <td>Private room</td>\n",
       "      <td>150</td>\n",
       "      <td>3</td>\n",
       "      <td>0</td>\n",
       "      <td>NaN</td>\n",
       "      <td>NaN</td>\n",
       "      <td>1</td>\n",
       "      <td>365</td>\n",
       "    </tr>\n",
       "    <tr>\n",
       "      <th>3</th>\n",
       "      <td>3831</td>\n",
       "      <td>Cozy Entire Floor of Brownstone</td>\n",
       "      <td>4869</td>\n",
       "      <td>LisaRoxanne</td>\n",
       "      <td>Brooklyn</td>\n",
       "      <td>Clinton Hill</td>\n",
       "      <td>40.68514</td>\n",
       "      <td>-73.95976</td>\n",
       "      <td>Entire home/apt</td>\n",
       "      <td>89</td>\n",
       "      <td>1</td>\n",
       "      <td>270</td>\n",
       "      <td>2019-07-05</td>\n",
       "      <td>4.64</td>\n",
       "      <td>1</td>\n",
       "      <td>194</td>\n",
       "    </tr>\n",
       "    <tr>\n",
       "      <th>4</th>\n",
       "      <td>5022</td>\n",
       "      <td>Entire Apt: Spacious Studio/Loft by central park</td>\n",
       "      <td>7192</td>\n",
       "      <td>Laura</td>\n",
       "      <td>Manhattan</td>\n",
       "      <td>East Harlem</td>\n",
       "      <td>40.79851</td>\n",
       "      <td>-73.94399</td>\n",
       "      <td>Entire home/apt</td>\n",
       "      <td>80</td>\n",
       "      <td>10</td>\n",
       "      <td>9</td>\n",
       "      <td>2018-11-19</td>\n",
       "      <td>0.10</td>\n",
       "      <td>1</td>\n",
       "      <td>0</td>\n",
       "    </tr>\n",
       "  </tbody>\n",
       "</table>\n",
       "</div>"
      ],
      "text/plain": [
       "     id                                              name  host_id  \\\n",
       "0  2539                Clean & quiet apt home by the park     2787   \n",
       "1  2595                             Skylit Midtown Castle     2845   \n",
       "2  3647               THE VILLAGE OF HARLEM....NEW YORK !     4632   \n",
       "3  3831                   Cozy Entire Floor of Brownstone     4869   \n",
       "4  5022  Entire Apt: Spacious Studio/Loft by central park     7192   \n",
       "\n",
       "     host_name neighbourhood_group neighbourhood  latitude  longitude  \\\n",
       "0         John            Brooklyn    Kensington  40.64749  -73.97237   \n",
       "1     Jennifer           Manhattan       Midtown  40.75362  -73.98377   \n",
       "2    Elisabeth           Manhattan        Harlem  40.80902  -73.94190   \n",
       "3  LisaRoxanne            Brooklyn  Clinton Hill  40.68514  -73.95976   \n",
       "4        Laura           Manhattan   East Harlem  40.79851  -73.94399   \n",
       "\n",
       "         room_type  price  minimum_nights  number_of_reviews last_review  \\\n",
       "0     Private room    149               1                  9  2018-10-19   \n",
       "1  Entire home/apt    225               1                 45  2019-05-21   \n",
       "2     Private room    150               3                  0         NaN   \n",
       "3  Entire home/apt     89               1                270  2019-07-05   \n",
       "4  Entire home/apt     80              10                  9  2018-11-19   \n",
       "\n",
       "   reviews_per_month  calculated_host_listings_count  availability_365  \n",
       "0               0.21                               6               365  \n",
       "1               0.38                               2               355  \n",
       "2                NaN                               1               365  \n",
       "3               4.64                               1               194  \n",
       "4               0.10                               1                 0  "
      ]
     },
     "execution_count": 94,
     "metadata": {},
     "output_type": "execute_result"
    }
   ],
   "source": [
    "# Viewing samples\n",
    "df_unclean.head()"
   ]
  },
  {
   "cell_type": "markdown",
   "id": "625d5d0c-7464-43de-a175-8da8bf25faa1",
   "metadata": {
    "created-datetime": "2022-08-07T22:46:05.144Z",
    "deps": [],
    "executions": 6,
    "id": "7661e2b9-406c-40c1-9702-16ae8f2888fc",
    "tags": []
   },
   "source": [
    "## Comments\n",
    "\n",
    "* Looks like some of the columns have Null values\n",
    "* Let's remove listings that don't have a name or host name\n"
   ]
  },
  {
   "cell_type": "code",
   "execution_count": 95,
   "id": "5ba7860b-d4e0-4a84-ab29-c8ab296ae7cc",
   "metadata": {
    "created-datetime": "2022-08-07T22:52:05.692Z",
    "deps": [],
    "executions": 9,
    "id": "5ba7860b-d4e0-4a84-ab29-c8ab296ae7cc",
    "keystrokes": 214,
    "modified-datetime": "2022-08-07T22:57:07.186Z",
    "tags": []
   },
   "outputs": [
    {
     "data": {
      "text/plain": [
       "id                                    0\n",
       "name                                 16\n",
       "host_id                               0\n",
       "host_name                            21\n",
       "neighbourhood_group                   0\n",
       "neighbourhood                         0\n",
       "latitude                              0\n",
       "longitude                             0\n",
       "room_type                             0\n",
       "price                                 0\n",
       "minimum_nights                        0\n",
       "number_of_reviews                     0\n",
       "last_review                       10052\n",
       "reviews_per_month                 10052\n",
       "calculated_host_listings_count        0\n",
       "availability_365                      0\n",
       "dtype: int64"
      ]
     },
     "execution_count": 95,
     "metadata": {},
     "output_type": "execute_result"
    }
   ],
   "source": [
    "#identifying the null values\n",
    "\n",
    "df_unclean.isnull().sum()"
   ]
  },
  {
   "cell_type": "code",
   "execution_count": 96,
   "id": "a78c9952-0a3b-4dac-a8f9-1f066287cb4e",
   "metadata": {
    "created-datetime": "2022-08-07T22:55:19.689Z",
    "deps": [],
    "executions": 10,
    "id": "a78c9952-0a3b-4dac-a8f9-1f066287cb4e",
    "keystrokes": 430,
    "modified-datetime": "2022-08-07T23:27:21.094Z",
    "tags": []
   },
   "outputs": [
    {
     "data": {
      "text/plain": [
       "id                                    0\n",
       "name                                  0\n",
       "host_id                               0\n",
       "host_name                             0\n",
       "neighbourhood_group                   0\n",
       "neighbourhood                         0\n",
       "latitude                              0\n",
       "longitude                             0\n",
       "room_type                             0\n",
       "price                                 0\n",
       "minimum_nights                        0\n",
       "number_of_reviews                     0\n",
       "last_review                       10037\n",
       "reviews_per_month                 10037\n",
       "calculated_host_listings_count        0\n",
       "availability_365                      0\n",
       "dtype: int64"
      ]
     },
     "execution_count": 96,
     "metadata": {},
     "output_type": "execute_result"
    }
   ],
   "source": [
    "# Drop rows when name or host_name is null\n",
    "\n",
    "df_clean = df_unclean.dropna(subset=['name','host_name'])\n",
    "df_clean.isnull().sum()"
   ]
  },
  {
   "cell_type": "code",
   "execution_count": 97,
   "id": "fd9f334b-9263-4ea9-970b-d342fdbbd202",
   "metadata": {
    "created-datetime": "2022-08-07T23:21:09.592Z",
    "deps": [],
    "executions": 8,
    "id": "fd9f334b-9263-4ea9-970b-d342fdbbd202",
    "keystrokes": 5,
    "modified-datetime": "2022-08-07T23:25:50.280Z",
    "tags": []
   },
   "outputs": [
    {
     "name": "stdout",
     "output_type": "stream",
     "text": [
      "48895\n",
      "48858\n"
     ]
    }
   ],
   "source": [
    "print(len(df_unclean))\n",
    "print(len(df_clean))"
   ]
  },
  {
   "cell_type": "markdown",
   "id": "e5c723c9-41b2-47e7-aaa8-da1c8a5d9138",
   "metadata": {
    "created-datetime": "2022-08-07T23:24:33.334Z",
    "deps": [],
    "executions": 5,
    "id": "99a59e7b-074b-42d0-8547-740811cdb9d3",
    "tags": []
   },
   "source": [
    "## Creating a DF to create a SPLOM/Corr Matrix"
   ]
  },
  {
   "cell_type": "code",
   "execution_count": 99,
   "id": "cf10a27e-0728-4dad-a2bb-3ccd2742688e",
   "metadata": {
    "created-datetime": "2022-08-07T23:29:28.209Z",
    "deps": [],
    "executions": 15,
    "id": "cf10a27e-0728-4dad-a2bb-3ccd2742688e",
    "keystrokes": 276,
    "modified-datetime": "2022-08-07T23:40:40.480Z",
    "tags": []
   },
   "outputs": [],
   "source": [
    "#Let's drop the columns that are strings\n",
    "\n",
    "df_quant = df_clean\n",
    "for d in df_clean.columns:\n",
    "    if df_clean.dtypes[d] == 'object':\n",
    "        print(d)\n",
    "        df_quant.drop(d, axis=1, inplace=True)"
   ]
  },
  {
   "cell_type": "code",
   "execution_count": 100,
   "id": "be344c67-2cb3-4775-bed8-f5b8530eb401",
   "metadata": {
    "created-datetime": "2022-08-07T23:34:41.769Z",
    "deps": [],
    "executions": 7,
    "id": "be344c67-2cb3-4775-bed8-f5b8530eb401",
    "keystrokes": 77,
    "modified-datetime": "2022-08-07T23:41:14.553Z",
    "tags": []
   },
   "outputs": [
    {
     "name": "stdout",
     "output_type": "stream",
     "text": [
      "<class 'pandas.core.frame.DataFrame'>\n",
      "Int64Index: 48858 entries, 0 to 48894\n",
      "Data columns (total 10 columns):\n",
      " #   Column                          Non-Null Count  Dtype  \n",
      "---  ------                          --------------  -----  \n",
      " 0   id                              48858 non-null  int64  \n",
      " 1   host_id                         48858 non-null  int64  \n",
      " 2   latitude                        48858 non-null  float64\n",
      " 3   longitude                       48858 non-null  float64\n",
      " 4   price                           48858 non-null  int64  \n",
      " 5   minimum_nights                  48858 non-null  int64  \n",
      " 6   number_of_reviews               48858 non-null  int64  \n",
      " 7   reviews_per_month               38821 non-null  float64\n",
      " 8   calculated_host_listings_count  48858 non-null  int64  \n",
      " 9   availability_365                48858 non-null  int64  \n",
      "dtypes: float64(3), int64(7)\n",
      "memory usage: 4.1 MB\n"
     ]
    }
   ],
   "source": [
    "df_quant.info()"
   ]
  },
  {
   "cell_type": "code",
   "execution_count": 101,
   "id": "9192c1b1-f4b1-4911-8840-45b8bb224126",
   "metadata": {
    "created-datetime": "2022-08-07T23:39:43.476Z",
    "deps": [],
    "executions": 3,
    "id": "9192c1b1-f4b1-4911-8840-45b8bb224126",
    "keystrokes": 86,
    "modified-datetime": "2022-08-07T23:42:06.500Z",
    "tags": []
   },
   "outputs": [
    {
     "name": "stdout",
     "output_type": "stream",
     "text": [
      "<class 'pandas.core.frame.DataFrame'>\n",
      "Int64Index: 48858 entries, 0 to 48894\n",
      "Data columns (total 8 columns):\n",
      " #   Column                          Non-Null Count  Dtype  \n",
      "---  ------                          --------------  -----  \n",
      " 0   latitude                        48858 non-null  float64\n",
      " 1   longitude                       48858 non-null  float64\n",
      " 2   price                           48858 non-null  int64  \n",
      " 3   minimum_nights                  48858 non-null  int64  \n",
      " 4   number_of_reviews               48858 non-null  int64  \n",
      " 5   reviews_per_month               38821 non-null  float64\n",
      " 6   calculated_host_listings_count  48858 non-null  int64  \n",
      " 7   availability_365                48858 non-null  int64  \n",
      "dtypes: float64(3), int64(5)\n",
      "memory usage: 3.4 MB\n"
     ]
    }
   ],
   "source": [
    "df_quant.drop('id', axis=1, inplace=True)\n",
    "df_quant.drop('host_id', axis=1, inplace=True)\n",
    "df_quant.info()"
   ]
  },
  {
   "cell_type": "markdown",
   "id": "43a7ee22-7f0d-42fc-80ba-be2e0b6b339a",
   "metadata": {
    "created-datetime": "2022-08-07T23:42:10.042Z",
    "deps": [],
    "executions": 2,
    "id": "4167a090-18e8-4100-8fd1-ddbbb56a5dd0",
    "tags": []
   },
   "source": [
    "## Correlation Matrix between the quantitative attributes"
   ]
  },
  {
   "cell_type": "code",
   "execution_count": 102,
   "id": "65d42cb5-844b-4204-8f50-2f045d9e0c2e",
   "metadata": {
    "created-datetime": "2022-08-07T23:42:53.895Z",
    "deps": [],
    "executions": 1,
    "id": "65d42cb5-844b-4204-8f50-2f045d9e0c2e",
    "keystrokes": 35,
    "modified-datetime": "2022-08-07T23:45:49.220Z",
    "tags": []
   },
   "outputs": [
    {
     "data": {
      "text/plain": [
       "Text(0.5, 1.0, 'Correlation Matrix')"
      ]
     },
     "execution_count": 102,
     "metadata": {},
     "output_type": "execute_result"
    },
    {
     "data": {
      "image/png": "[encoded data removed]",
      "text/plain": [
       "<Figure size 1080x864 with 2 Axes>"
      ]
     },
     "metadata": {
      "needs_background": "light"
     },
     "output_type": "display_data"
    }
   ],
   "source": [
    "# Pearson's correlation\n",
    "\n",
    "plt.figure(figsize=(15,12))\n",
    "palette = sns.diverging_palette(20, 220, n=256)\n",
    "corr=df_quant.corr(method='pearson')\n",
    "sns.heatmap(corr, annot=True, fmt=\".2f\", cmap=palette, vmax=.3, center=0,\n",
    "            square=True, linewidths=.5, cbar_kws={\"shrink\": .5}).set(ylim=(11, 0))\n",
    "plt.title(\"Correlation Matrix\",size=15, weight='bold')"
   ]
  },
  {
   "cell_type": "markdown",
   "id": "4d20b7ec-73f2-40fb-bf1d-caf87ca9a133",
   "metadata": {
    "created-datetime": "2022-08-07T23:46:58.222Z",
    "deps": [],
    "executions": 1,
    "id": "92dbe07e-a3c9-4c18-bee0-75b44624099b",
    "keystrokes": 6,
    "modified-datetime": "2022-08-07T23:53:14.120Z",
    "tags": []
   },
   "source": [
    "## Let's look at the residual plots to see if there are any linear trends between the attributes. If there is a trend in a few of the charts, I could possibly use this dataset for the experiment"
   ]
  },
  {
   "cell_type": "code",
   "execution_count": null,
   "id": "7fd7e2bb-299e-4b84-b776-92fd3bb924ff",
   "metadata": {
    "created-datetime": "2022-08-07T23:54:40.171Z",
    "deps": [],
    "id": "7fd7e2bb-299e-4b84-b776-92fd3bb924ff",
    "keystrokes": 48,
    "modified-datetime": "2022-08-07T23:55:30.342Z",
    "tags": []
   },
   "outputs": [],
   "source": [
    "df_quant_x, df_quant_y = df_quant.iloc[:,:-1], df_quant.iloc[:,-1]"
   ]
  }
 ],
 "metadata": {
  "kernelspec": {
   "display_name": "Python 3 (ipykernel)",
   "language": "python",
   "name": "python3"
  },
  "language_info": {
   "codemirror_mode": {
    "name": "ipython",
    "version": 3
   },
   "file_extension": ".py",
   "mimetype": "text/x-python",
   "name": "python",
   "nbconvert_exporter": "python",
   "pygments_lexer": "ipython3",
   "version": "3.7.13"
  }
 },
 "nbformat": 4,
 "nbformat_minor": 5
}
