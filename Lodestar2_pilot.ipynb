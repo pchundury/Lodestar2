{
 "cells": [
  {
   "cell_type": "code",
   "execution_count": 13,
   "id": "7f313d13-8f96-41cb-a914-e634b22d1b39",
   "metadata": {
    "created-datetime": "2022-08-07T19:53:09.126Z",
    "deps": [],
    "executions": 4,
    "id": "7f313d13-8f96-41cb-a914-e634b22d1b39",
    "keystrokes": 23,
    "modified-datetime": "2022-08-07T19:58:07.811Z",
    "tags": []
   },
   "outputs": [
    {
     "name": "stdout",
     "output_type": "stream",
     "text": [
      "Everybody lies\n"
     ]
    }
   ],
   "source": [
    "print(\"Everybody lies\")"
   ]
  },
  {
   "cell_type": "code",
   "execution_count": null,
   "id": "4e23d3f0-8c56-4816-b964-ceaac7113290",
   "metadata": {
    "created-datetime": "2022-08-07T20:18:50.046Z",
    "deps": [],
    "id": "4e23d3f0-8c56-4816-b964-ceaac7113290",
    "keystrokes": 126,
    "modified-datetime": "2022-08-07T20:18:58.016Z",
    "tags": []
   },
   "outputs": [],
   "source": [
    "cell = \"3\""
   ]
  },
  {
   "cell_type": "code",
   "execution_count": 14,
   "id": "d25a2a8f-6bf6-404c-919f-e1abb00ed419",
   "metadata": {
    "created-datetime": "2022-08-07T19:53:09.876Z",
    "deps": [
     "38498c98-a024-4936-a373-7f6baafca29f",
     "7f313d13-8f96-41cb-a914-e634b22d1b39"
    ],
    "executions": 4,
    "id": "d25a2a8f-6bf6-404c-919f-e1abb00ed419",
    "keystrokes": 35,
    "modified-datetime": "2022-08-07T20:17:00.208Z",
    "tags": []
   },
   "outputs": [],
   "source": [
    "# Cell 3 depends on no cell"
   ]
  },
  {
   "cell_type": "code",
   "execution_count": 15,
   "id": "26ce3216-1fc5-4b71-912b-571d21bfb8a1",
   "metadata": {
    "created-datetime": "2022-08-07T19:53:11.669Z",
    "deps": [
     "96e0b707-64af-48eb-aee8-a5f6e4c91824"
    ],
    "executions": 4,
    "id": "26ce3216-1fc5-4b71-912b-571d21bfb8a1",
    "keystrokes": 196,
    "modified-datetime": "2022-08-07T20:16:31.863Z",
    "tags": []
   },
   "outputs": [
    {
     "name": "stdout",
     "output_type": "stream",
     "text": [
      "cell:2 was deleted\n"
     ]
    }
   ],
   "source": [
    "# This cells depends on a deleted cell\n",
    "\n",
    "print(\"cell:\" + cell + \" was deleted\")"
   ]
  },
  {
   "cell_type": "code",
   "execution_count": null,
   "id": "5eefcad3-457a-4cad-9e17-e5bad60aee0d",
   "metadata": {
    "created-datetime": "2022-08-07T20:17:08.660Z",
    "id": "5eefcad3-457a-4cad-9e17-e5bad60aee0d"
   },
   "outputs": [],
   "source": []
  }
 ],
 "metadata": {
  "kernelspec": {
   "display_name": "Python 3 (ipykernel)",
   "language": "python",
   "name": "python3"
  },
  "language_info": {
   "codemirror_mode": {
    "name": "ipython",
    "version": 3
   },
   "file_extension": ".py",
   "mimetype": "text/x-python",
   "name": "python",
   "nbconvert_exporter": "python",
   "pygments_lexer": "ipython3",
   "version": "3.7.13"
  }
 },
 "nbformat": 4,
 "nbformat_minor": 5
}
