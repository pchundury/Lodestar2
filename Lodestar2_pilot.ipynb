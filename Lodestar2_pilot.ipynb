{
 "cells": [
  {
   "cell_type": "markdown",
   "id": "323fac07-75de-4d0e-9256-0642fdeb5f48",
   "metadata": {
    "created-datetime": "2022-08-07T19:53:09.126Z",
    "deps": [],
    "executions": 8,
    "id": "7f313d13-8f96-41cb-a914-e634b22d1b39",
    "keystrokes": 23,
    "modified-datetime": "2022-08-07T19:58:07.811Z",
    "tags": []
   },
   "source": [
    "# Airbnb NYC 2019 EDA"
   ]
  },
  {
   "cell_type": "code",
   "execution_count": 29,
   "id": "d25a2a8f-6bf6-404c-919f-e1abb00ed419",
   "metadata": {
    "created-datetime": "2022-08-07T19:53:09.876Z",
    "deps": [
     "38498c98-a024-4936-a373-7f6baafca29f"
    ],
    "executions": 9,
    "id": "d25a2a8f-6bf6-404c-919f-e1abb00ed419",
    "keystrokes": 162,
    "modified-datetime": "2022-08-07T22:34:39.146Z",
    "tags": []
   },
   "outputs": [],
   "source": [
    "# Load dependencies\n",
    "\n",
    "import os\n",
    "import pandas as pd\n",
    "import seaborn as sns\n",
    "import matplotlib.pyplot as plt"
   ]
  },
  {
   "cell_type": "markdown",
   "id": "8acb6269-82bd-4262-b8df-5a9e24bea6a1",
   "metadata": {
    "created-datetime": "2022-08-07T22:38:57.038Z",
    "deps": [],
    "executions": 3,
    "id": "ce9e7e73-b258-4705-a87a-3f3204ff4f47",
    "tags": []
   },
   "source": [
    "## Exploring the data attributes"
   ]
  },
  {
   "cell_type": "code",
   "execution_count": 30,
   "id": "26ce3216-1fc5-4b71-912b-571d21bfb8a1",
   "metadata": {
    "created-datetime": "2022-08-07T19:53:11.669Z",
    "deps": [
     "96e0b707-64af-48eb-aee8-a5f6e4c91824",
     "4e23d3f0-8c56-4816-b964-ceaac7113290"
    ],
    "executions": 10,
    "id": "26ce3216-1fc5-4b71-912b-571d21bfb8a1",
    "keystrokes": 435,
    "modified-datetime": "2022-08-07T22:42:40.681Z",
    "tags": []
   },
   "outputs": [
    {
     "name": "stdout",
     "output_type": "stream",
     "text": [
      " Samples: 48895 ; columns: 16\n"
     ]
    }
   ],
   "source": [
    "# Loading the dataset\n",
    "\n",
    "df_unclean = pd.read_csv(\"./AB_NYC_2019.csv\")\n",
    "print(\" Samples: {} ; columns: {}\".format(df_unclean.shape[0], df_unclean.shape[1]))\n",
    "\n"
   ]
  },
  {
   "cell_type": "code",
   "execution_count": 31,
   "id": "286e20e6-c8ea-4f1b-9b94-65e356825b55",
   "metadata": {
    "created-datetime": "2022-08-07T22:35:36.097Z",
    "deps": [
     "7f313d13-8f96-41cb-a914-e634b22d1b39",
     "26ce3216-1fc5-4b71-912b-571d21bfb8a1"
    ],
    "executions": 1,
    "id": "286e20e6-c8ea-4f1b-9b94-65e356825b55",
    "keystrokes": 315,
    "modified-datetime": "2022-08-07T22:43:15.890Z",
    "tags": []
   },
   "outputs": [
    {
     "data": {
      "text/plain": [
       "id                                  int64\n",
       "name                               object\n",
       "host_id                             int64\n",
       "host_name                          object\n",
       "neighbourhood_group                object\n",
       "neighbourhood                      object\n",
       "latitude                          float64\n",
       "longitude                         float64\n",
       "room_type                          object\n",
       "price                               int64\n",
       "minimum_nights                      int64\n",
       "number_of_reviews                   int64\n",
       "last_review                        object\n",
       "reviews_per_month                 float64\n",
       "calculated_host_listings_count      int64\n",
       "availability_365                    int64\n",
       "dtype: object"
      ]
     },
     "execution_count": 31,
     "metadata": {},
     "output_type": "execute_result"
    }
   ],
   "source": [
    "#Listing the columns\n",
    "\n",
    "df_unclean.dtypes"
   ]
  },
  {
   "cell_type": "code",
   "execution_count": null,
   "id": "eb3280bc-798c-4cfc-8925-6b49bd63d6ea",
   "metadata": {
    "created-datetime": "2022-08-07T22:43:32.878Z",
    "id": "eb3280bc-798c-4cfc-8925-6b49bd63d6ea"
   },
   "outputs": [],
   "source": []
  }
 ],
 "metadata": {
  "kernelspec": {
   "display_name": "Python 3 (ipykernel)",
   "language": "python",
   "name": "python3"
  },
  "language_info": {
   "codemirror_mode": {
    "name": "ipython",
    "version": 3
   },
   "file_extension": ".py",
   "mimetype": "text/x-python",
   "name": "python",
   "nbconvert_exporter": "python",
   "pygments_lexer": "ipython3",
   "version": "3.7.13"
  }
 },
 "nbformat": 4,
 "nbformat_minor": 5
}
