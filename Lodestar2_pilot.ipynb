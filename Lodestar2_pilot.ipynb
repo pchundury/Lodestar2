{
 "cells": [
  {
   "cell_type": "code",
   "execution_count": 5,
   "id": "7f313d13-8f96-41cb-a914-e634b22d1b39",
   "metadata": {
    "created-datetime": "2022-08-07T19:53:09.126Z",
    "deps": [],
    "executions": 2,
    "id": "7f313d13-8f96-41cb-a914-e634b22d1b39",
    "keystrokes": 23,
    "modified-datetime": "2022-08-07T19:58:07.811Z",
    "tags": []
   },
   "outputs": [
    {
     "name": "stdout",
     "output_type": "stream",
     "text": [
      "Everybody lies\n"
     ]
    }
   ],
   "source": [
    "print(\"Everybody lies\")"
   ]
  },
  {
   "cell_type": "code",
   "execution_count": 6,
   "id": "96e0b707-64af-48eb-aee8-a5f6e4c91824",
   "metadata": {
    "created-datetime": "2022-08-07T20:15:08.791Z",
    "deps": [],
    "executions": 1,
    "id": "96e0b707-64af-48eb-aee8-a5f6e4c91824",
    "keystrokes": 60,
    "modified-datetime": "2022-08-07T20:15:21.967Z",
    "tags": []
   },
   "outputs": [],
   "source": [
    "cell = '2'"
   ]
  },
  {
   "cell_type": "code",
   "execution_count": 7,
   "id": "d25a2a8f-6bf6-404c-919f-e1abb00ed419",
   "metadata": {
    "created-datetime": "2022-08-07T19:53:09.876Z",
    "deps": [
     "38498c98-a024-4936-a373-7f6baafca29f",
     "7f313d13-8f96-41cb-a914-e634b22d1b39"
    ],
    "executions": 2,
    "id": "d25a2a8f-6bf6-404c-919f-e1abb00ed419",
    "keystrokes": 27,
    "modified-datetime": "2022-08-07T20:00:24.595Z",
    "tags": []
   },
   "outputs": [],
   "source": [
    "# Cell 3 depends on 1 and 2"
   ]
  },
  {
   "cell_type": "code",
   "execution_count": 8,
   "id": "26ce3216-1fc5-4b71-912b-571d21bfb8a1",
   "metadata": {
    "created-datetime": "2022-08-07T19:53:11.669Z",
    "deps": [],
    "executions": 2,
    "id": "26ce3216-1fc5-4b71-912b-571d21bfb8a1",
    "keystrokes": 196,
    "modified-datetime": "2022-08-07T20:16:31.863Z",
    "tags": []
   },
   "outputs": [
    {
     "name": "stdout",
     "output_type": "stream",
     "text": [
      "cell:2was deleted\n"
     ]
    }
   ],
   "source": [
    "# This cells depends on a deleted cell\n",
    "\n",
    "print(\"cell:\" + cell + \" was deleted\")"
   ]
  }
 ],
 "metadata": {
  "kernelspec": {
   "display_name": "Python 3 (ipykernel)",
   "language": "python",
   "name": "python3"
  },
  "language_info": {
   "codemirror_mode": {
    "name": "ipython",
    "version": 3
   },
   "file_extension": ".py",
   "mimetype": "text/x-python",
   "name": "python",
   "nbconvert_exporter": "python",
   "pygments_lexer": "ipython3",
   "version": "3.7.13"
  }
 },
 "nbformat": 4,
 "nbformat_minor": 5
}
