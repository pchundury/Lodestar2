{
 "cells": [
  {
   "cell_type": "code",
   "execution_count": 1,
   "id": "38498c98-a024-4936-a373-7f6baafca29f",
   "metadata": {
    "created-datetime": "2022-08-07T19:52:53.301Z",
    "deps": [],
    "executions": 1,
    "id": "38498c98-a024-4936-a373-7f6baafca29f",
    "keystrokes": 20,
    "modified-datetime": "2022-08-07T19:54:48.706Z",
    "tags": []
   },
   "outputs": [
    {
     "name": "stdout",
     "output_type": "stream",
     "text": [
      "Hello world\n"
     ]
    }
   ],
   "source": [
    "print(\"Hello world\")"
   ]
  },
  {
   "cell_type": "code",
   "execution_count": 2,
   "id": "7f313d13-8f96-41cb-a914-e634b22d1b39",
   "metadata": {
    "created-datetime": "2022-08-07T19:53:09.126Z",
    "deps": [],
    "executions": 1,
    "id": "7f313d13-8f96-41cb-a914-e634b22d1b39",
    "keystrokes": 23,
    "modified-datetime": "2022-08-07T19:58:07.811Z",
    "tags": []
   },
   "outputs": [
    {
     "name": "stdout",
     "output_type": "stream",
     "text": [
      "Everybody lies\n"
     ]
    }
   ],
   "source": [
    "print(\"Everybody lies\")"
   ]
  },
  {
   "cell_type": "code",
   "execution_count": null,
   "id": "d25a2a8f-6bf6-404c-919f-e1abb00ed419",
   "metadata": {
    "created-datetime": "2022-08-07T19:53:09.876Z",
    "id": "d25a2a8f-6bf6-404c-919f-e1abb00ed419"
   },
   "outputs": [],
   "source": []
  },
  {
   "cell_type": "code",
   "execution_count": null,
   "id": "26ce3216-1fc5-4b71-912b-571d21bfb8a1",
   "metadata": {
    "created-datetime": "2022-08-07T19:53:11.669Z",
    "id": "26ce3216-1fc5-4b71-912b-571d21bfb8a1"
   },
   "outputs": [],
   "source": []
  }
 ],
 "metadata": {
  "kernelspec": {
   "display_name": "Python 3 (ipykernel)",
   "language": "python",
   "name": "python3"
  },
  "language_info": {
   "codemirror_mode": {
    "name": "ipython",
    "version": 3
   },
   "file_extension": ".py",
   "mimetype": "text/x-python",
   "name": "python",
   "nbconvert_exporter": "python",
   "pygments_lexer": "ipython3",
   "version": "3.7.13"
  }
 },
 "nbformat": 4,
 "nbformat_minor": 5
}
